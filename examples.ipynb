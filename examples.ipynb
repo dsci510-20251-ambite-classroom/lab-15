{
 "cells": [
  {
   "cell_type": "markdown",
   "metadata": {},
   "source": [
    "# Lab 15 Example\n",
    "In this lab we will cover two advanced topics in Python. The first topic is about **Concurrency and Parallelism**. And the second is about **Packaging and Distribution**."
   ]
  },
  {
   "cell_type": "markdown",
   "metadata": {},
   "source": [
    "## Concurrency and Parallelism\n",
    "In Python, **concurrency and parallelism** deal with executing multiple tasks simultaneously to improve performance, responsiveness, or throughput. While the terms are often used interchangeably, they refer to different concepts:\n",
    "\n",
    "* **Concurrency** is about dealing with many tasks at once—managing multiple operations in overlapping time frames (e.g., using threads or asynchronous I/O).\n",
    "* **Parallelism** is about doing many tasks at the same time—actually running code simultaneously, typically on multiple CPU cores (e.g., using the `multiprocessing` module).\n",
    "\n",
    "Python’s Global Interpreter Lock (GIL) imposes limitations on true parallelism in multi-threaded code, but tools like **`asyncio`**, **`threading`**, and **`multiprocessing`** offer different models for achieving concurrency and parallelism. Understanding when and how to use each is critical for building high-performance applications, especially in web servers, data pipelines, or scientific computing.\n"
   ]
  },
  {
   "cell_type": "markdown",
   "metadata": {},
   "source": [
    "### **Concurrency (AsyncIO)**\n",
    "\n",
    "Some programs involve natural waiting during execution. For example, a web scraping script often waits for network responses. During this time, your CPU is actually idle. A very straightforward idea is to use this idle time to do something else — like sending another request, processing previously received data, or performing background tasks.\n",
    "\n",
    "This is where **asynchronous programming** comes in. Python's `asyncio` library allows you to write code that can pause (await) during slow operations without blocking the entire program. This makes it possible to handle many tasks concurrently in a single thread — ideal for I/O-bound workloads such as:\n",
    "\n",
    "* Fetching data from multiple APIs\n",
    "* Reading and writing files or databases\n",
    "* Handling thousands of web clients in a server\n",
    "\n",
    "With `async def` functions and the `await` keyword, you can build efficient, non-blocking applications that are easier to read and maintain than traditional callback-based approaches.\n"
   ]
  },
  {
   "cell_type": "markdown",
   "metadata": {},
   "source": [
    "Let's use lab 9 as an example, in which we scrape 50 pages in [https://books.toscrape.com/](https://books.toscrape.com/)."
   ]
  },
  {
   "cell_type": "code",
   "execution_count": 9,
   "metadata": {},
   "outputs": [],
   "source": [
    "import asyncio\n",
    "import time\n",
    "import os\n",
    "import aiohttp\n",
    "\n",
    "os.makedirs(\"data_async\", exist_ok=True)\n",
    "\n",
    "url_format = \"https://books.toscrape.com/catalogue/page-{}.html\""
   ]
  },
  {
   "cell_type": "code",
   "execution_count": 10,
   "metadata": {},
   "outputs": [
    {
     "name": "stdout",
     "output_type": "stream",
     "text": [
      "Time taken: 0.89 seconds\n",
      "All files created successfully.\n"
     ]
    }
   ],
   "source": [
    "# async func\n",
    "async def get_html(session, page_id: int) -> str:\n",
    "    \"\"\"Fetches and returns the HTML content of the specified page.\"\"\"\n",
    "    url = \"https://books.toscrape.com/catalogue/page-{}.html\"\n",
    "    async with session.get(url.format(page_id)) as response:\n",
    "        # change encoding to utf-8\n",
    "        response.encoding = \"utf-8\"\n",
    "        html = await response.text()\n",
    "        with open(f\"data_async/page-{page_id}.html\", \"w\", encoding=\"utf-8\") as f:\n",
    "            f.write(html)\n",
    "\n",
    "\n",
    "# run the async func in a loop\n",
    "async def main():\n",
    "    \"\"\"Main function to run the async tasks.\"\"\"\n",
    "    tasks = []\n",
    "    async with aiohttp.ClientSession() as session:\n",
    "        for page_id in range(1, 51):\n",
    "            tasks.append(get_html(session, page_id))\n",
    "        await asyncio.gather(*tasks)\n",
    "\n",
    "start = time.time()\n",
    "await main()\n",
    "end = time.time()\n",
    "print(f\"Time taken: {end - start:.2f} seconds\")\n",
    "# check if the files are created\n",
    "for page_id in range(1, 51):\n",
    "    assert os.path.exists(f\"data_async/page-{page_id}.html\"), f\"File page-{page_id}.html not found\"\n",
    "print(\"All files created successfully.\")"
   ]
  },
  {
   "cell_type": "code",
   "execution_count": 7,
   "metadata": {},
   "outputs": [
    {
     "name": "stdout",
     "output_type": "stream",
     "text": [
      "Time taken: 19.88 seconds\n",
      "All files created successfully.\n"
     ]
    }
   ],
   "source": [
    "# without async\n",
    "import requests\n",
    "\n",
    "os.makedirs(\"data_no_async\", exist_ok=True)\n",
    "\n",
    "def get_html_no_async(page_id: int) -> str:\n",
    "    \"\"\"Fetches and returns the HTML content of the specified page.\"\"\"\n",
    "    url = \"https://books.toscrape.com/catalogue/page-{}.html\"\n",
    "    response = requests.get(url.format(page_id))\n",
    "    # change encoding to utf-8\n",
    "    response.encoding = \"utf-8\"\n",
    "    html = response.text\n",
    "    with open(f\"data_no_async/page-{page_id}.html\", \"w\", encoding=\"utf-8\") as f:\n",
    "        f.write(html)\n",
    "\n",
    "start = time.time()\n",
    "for page_id in range(1, 51):\n",
    "    get_html_no_async(page_id)\n",
    "end = time.time()\n",
    "print(f\"Time taken: {end - start:.2f} seconds\")\n",
    "# check if the files are created\n",
    "for page_id in range(1, 51):\n",
    "    assert os.path.exists(f\"data_no_async/page-{page_id}.html\")\n",
    "print(\"All files created successfully.\")"
   ]
  },
  {
   "cell_type": "markdown",
   "metadata": {},
   "source": [
    "## Parallelism\n",
    "\n",
    "`AsyncIO` can improve CPU utilization and speed up tasks that involve a lot of waiting (idle time), such as downloading files or querying web APIs. But what if your program is **CPU-intensive** — like performing large number multiplications, sorting huge datasets, or processing images?\n",
    "\n",
    "While the total execution time for CPU-bound tasks is limited by your machine's hardware, it's possible that your task isn't fully using all the available computational resources (i.e CPU time and CPU cores). \n",
    "\n",
    "Modern operating systems can execute multiple threads or processes in parallel across multiple CPU cores. To take advantage of this, you can break your workload into smaller chunks and run them **in parallel**. In Python, this is typically done using the **`multiprocessing`** module.\n",
    "\n",
    "`multiprocessing` creates separate processes that can run truly in parallel, allowing your program to make full use of multiple CPU cores. This leads to significant performance improvements for compute-heavy operations.\n"
   ]
  },
  {
   "cell_type": "code",
   "execution_count": 23,
   "metadata": {},
   "outputs": [],
   "source": [
    "import random\n",
    "random.seed(0)\n",
    "\n",
    "def rand_array(n):\n",
    "    return [random.randint(0, 10000000) for _ in range(n)]\n",
    "\n",
    "arrays = [rand_array(100000) for _ in range(100)]"
   ]
  },
  {
   "cell_type": "code",
   "execution_count": 26,
   "metadata": {},
   "outputs": [
    {
     "name": "stdout",
     "output_type": "stream",
     "text": [
      "Running on 32 cores...\n",
      "[Multiprocessing] Sorted 100 arrays in 0.56 seconds.\n"
     ]
    }
   ],
   "source": [
    "from multiprocessing import Pool, cpu_count\n",
    "import time\n",
    "\n",
    "def norm_vector(v):\n",
    "    norm = sum(x**2 for x in v) ** 0.5\n",
    "    return norm\n",
    "\n",
    "# Use all available CPU cores\n",
    "num_workers = cpu_count()\n",
    "\n",
    "print(f\"Running on {num_workers} cores...\")\n",
    "\n",
    "start = time.time()\n",
    "\n",
    "with Pool(processes=num_workers) as pool:\n",
    "    results = pool.map(norm_vector, arrays)\n",
    "\n",
    "end = time.time()\n",
    "print(f\"[Multiprocessing] Sorted {len(arrays)} arrays in {end - start:.2f} seconds.\")"
   ]
  },
  {
   "cell_type": "code",
   "execution_count": 27,
   "metadata": {},
   "outputs": [
    {
     "name": "stdout",
     "output_type": "stream",
     "text": [
      "[Singal Threaded] Sorted 100 arrays in 1.12 seconds.\n"
     ]
    }
   ],
   "source": [
    "# single threaded version\n",
    "start = time.time()\n",
    "results = []\n",
    "for arr in arrays:\n",
    "    results.append(norm_vector(arr))\n",
    "end = time.time()\n",
    "print(f\"[Singal Threaded] Sorted {len(arrays)} arrays in {end - start:.2f} seconds.\")"
   ]
  },
  {
   "cell_type": "markdown",
   "metadata": {},
   "source": [
    "## Packaging and Distribution\n",
    "\n",
    "Throughout this class, we've worked with several popular libraries such as `NumPy`, `Pandas`, `Matplotlib`, and `Seaborn`. You might now be wondering how to create your own Python library and share it with others. In this section, we'll walk you through the process of packaging your code into a reusable library and distributing it so others can install and use it just like any other Python package.\n"
   ]
  },
  {
   "cell_type": "markdown",
   "metadata": {},
   "source": [
    "To build our own library, we need to have several important files. Here is the structure of the most basic Python library:\n",
    "\n",
    "```\n",
    "my_lib/\n",
    "├── my_lib/\n",
    "│   ├── __init__.py\n",
    "│   └── ... (your module code here)\n",
    "├── setup.py\n",
    "└── README.md\n",
    "```\n",
    "\n",
    "Where:\n",
    "\n",
    "* `__init__.py` marks the directory as a Python package. It can also be used to expose selected functions or classes at the package level.\n",
    "* `setup.py` contains the package configuration. It tells Python (and tools like `pip`) how to install and manage your package — including its name, version, dependencies, and author information.\n",
    "* `README.md` is optional but strongly recommended. It provides users with an overview of your library — what it does, how to install it, and how to use it.\n",
    "\n",
    "Once these files are in place, you can build and install the package locally, or even publish it to PyPI to share it with others."
   ]
  },
  {
   "cell_type": "markdown",
   "metadata": {},
   "source": [
    "### 1. Build local package\n",
    "1. Write some code in `my_lib/my_lib`. We will use the `attention` function from Lab 13. \n",
    "2. In the `my_lib/my_lib/__init__.py`, import `attention` function.\n",
    "3. Write set up commands in `my_lib/setup.py` "
   ]
  },
  {
   "cell_type": "code",
   "execution_count": null,
   "metadata": {},
   "outputs": [],
   "source": [
    "# codes in setup.py\n",
    "from setuptools import setup, find_packages\n",
    "\n",
    "setup(\n",
    "    name='my_lib',\n",
    "    version='0.1.0',\n",
    "    description='A simple demo library with an attention function',\n",
    "    author='Your Name',\n",
    "    packages=find_packages(),\n",
    "    install_requires=[\n",
    "        'numpy>=1.20.0'  # Add any version you depend on\n",
    "    ],\n",
    "    python_requires='>=3.6',\n",
    ")"
   ]
  },
  {
   "cell_type": "markdown",
   "metadata": {},
   "source": [
    "Now we can install your library locally! "
   ]
  },
  {
   "cell_type": "code",
   "execution_count": 16,
   "metadata": {},
   "outputs": [
    {
     "name": "stdout",
     "output_type": "stream",
     "text": [
      "\u001b[33mDEPRECATION: Loading egg at /home/emily/anaconda3/envs/nerf/lib/python3.11/site-packages/pytorch3d-0.7.7-py3.11-linux-x86_64.egg is deprecated. pip 24.3 will enforce this behaviour change. A possible replacement is to use pip for package installation. Discussion can be found at https://github.com/pypa/pip/issues/12330\u001b[0m\u001b[33m\n",
      "\u001b[0m\u001b[33mDEPRECATION: Loading egg at /home/emily/anaconda3/envs/nerf/lib/python3.11/site-packages/diff_gauss-1.0.10.0-py3.11-linux-x86_64.egg is deprecated. pip 24.3 will enforce this behaviour change. A possible replacement is to use pip for package installation. Discussion can be found at https://github.com/pypa/pip/issues/12330\u001b[0m\u001b[33m\n",
      "\u001b[0mProcessing ./my_lib\n",
      "  Installing build dependencies ... \u001b[?25ldone\n",
      "\u001b[?25h  Getting requirements to build wheel ... \u001b[?25ldone\n",
      "\u001b[?25h  Preparing metadata (pyproject.toml) ... \u001b[?25ldone\n",
      "\u001b[?25hRequirement already satisfied: numpy>=1.20.0 in /home/emily/anaconda3/envs/nerf/lib/python3.11/site-packages (from my_lib_dsci510==0.1.0) (1.26.4)\n",
      "Building wheels for collected packages: my_lib_dsci510\n",
      "  Building wheel for my_lib_dsci510 (pyproject.toml) ... \u001b[?25ldone\n",
      "\u001b[?25h  Created wheel for my_lib_dsci510: filename=my_lib_dsci510-0.1.0-py3-none-any.whl size=1772 sha256=3119a3c23e3a2db3604248b1056e493175b2b348ab1d6d1e8c80e04b4d236ce3\n",
      "  Stored in directory: /tmp/pip-ephem-wheel-cache-i433qeq2/wheels/f6/fa/97/d54cf2987d0764f58cb2cdcfd89ff92198ec3b0ed41ad69545\n",
      "Successfully built my_lib_dsci510\n",
      "Installing collected packages: my_lib_dsci510\n",
      "Successfully installed my_lib_dsci510-0.1.0\n"
     ]
    }
   ],
   "source": [
    "!pip install my_lib/"
   ]
  },
  {
   "cell_type": "markdown",
   "metadata": {},
   "source": [
    "Try use it in python notebook. "
   ]
  },
  {
   "cell_type": "code",
   "execution_count": 18,
   "metadata": {},
   "outputs": [
    {
     "name": "stdout",
     "output_type": "stream",
     "text": [
      "(5, 3)\n",
      "[[0.58703092 0.59007248 0.5074895 ]\n",
      " [0.54361973 0.5679409  0.44604053]\n",
      " [0.6952744  0.72870416 0.57378038]\n",
      " [0.59618506 0.59568121 0.51795619]\n",
      " [0.52681412 0.50852617 0.47150766]]\n"
     ]
    }
   ],
   "source": [
    "from my_lib import attention\n",
    "\n",
    "import numpy as np\n",
    "def test_attention():\n",
    "    \"\"\"Test the attention function.\"\"\"\n",
    "    # Create dummy data\n",
    "    query = np.random.rand(5, 3)\n",
    "    key = np.random.rand(5, 3)\n",
    "    value = np.random.rand(5, 3)\n",
    "\n",
    "    # Call the attention function\n",
    "    output = attention(query, key, value)\n",
    "\n",
    "    # Check the shape of the output\n",
    "    print(output.shape)\n",
    "    print(output)\n",
    "\n",
    "test_attention()"
   ]
  },
  {
   "cell_type": "markdown",
   "metadata": {},
   "source": [
    "### 2. Share your lib to PyPI\n",
    "Once your library is ready and tested locally, you can publish it to [PyPI (Python Package Index)](https://pypi.org/) so others can install it using `pip`. Here’s how to do it:\n",
    "\n",
    "#### 1. Add a `pyproject.toml` file\n",
    "\n",
    "This file is required by modern Python packaging tools.\n",
    "\n",
    "Create `pyproject.toml` in the root of your project (`my_lib/`) with the following content:\n",
    "\n",
    "```toml\n",
    "[build-system]\n",
    "requires = [\"setuptools\", \"wheel\"]\n",
    "build-backend = \"setuptools.build_meta\"\n",
    "```\n",
    "\n",
    "#### 2. Build your package (Here it means generate a zip file for your package)\n",
    "Install the build tool:\n"
   ]
  },
  {
   "cell_type": "code",
   "execution_count": 13,
   "metadata": {},
   "outputs": [
    {
     "name": "stdout",
     "output_type": "stream",
     "text": [
      "\u001b[33mDEPRECATION: Loading egg at /home/emily/anaconda3/envs/nerf/lib/python3.11/site-packages/pytorch3d-0.7.7-py3.11-linux-x86_64.egg is deprecated. pip 24.3 will enforce this behaviour change. A possible replacement is to use pip for package installation. Discussion can be found at https://github.com/pypa/pip/issues/12330\u001b[0m\u001b[33m\n",
      "\u001b[0m\u001b[33mDEPRECATION: Loading egg at /home/emily/anaconda3/envs/nerf/lib/python3.11/site-packages/diff_gauss-1.0.10.0-py3.11-linux-x86_64.egg is deprecated. pip 24.3 will enforce this behaviour change. A possible replacement is to use pip for package installation. Discussion can be found at https://github.com/pypa/pip/issues/12330\u001b[0m\u001b[33m\n",
      "\u001b[0mCollecting build\n",
      "  Downloading build-1.2.2.post1-py3-none-any.whl.metadata (6.5 kB)\n",
      "Requirement already satisfied: packaging>=19.1 in /home/emily/anaconda3/envs/nerf/lib/python3.11/site-packages (from build) (24.1)\n",
      "Collecting pyproject_hooks (from build)\n",
      "  Downloading pyproject_hooks-1.2.0-py3-none-any.whl.metadata (1.3 kB)\n",
      "Downloading build-1.2.2.post1-py3-none-any.whl (22 kB)\n",
      "Downloading pyproject_hooks-1.2.0-py3-none-any.whl (10 kB)\n",
      "Installing collected packages: pyproject_hooks, build\n",
      "Successfully installed build-1.2.2.post1 pyproject_hooks-1.2.0\n"
     ]
    }
   ],
   "source": [
    "!pip install build"
   ]
  },
  {
   "cell_type": "markdown",
   "metadata": {},
   "source": [
    "Then, from inside the `my_lib/` directory, run:"
   ]
  },
  {
   "cell_type": "code",
   "execution_count": 19,
   "metadata": {},
   "outputs": [
    {
     "name": "stdout",
     "output_type": "stream",
     "text": [
      "\u001b[1m* Creating isolated environment: venv+pip...\u001b[0m\n",
      "\u001b[1m* Installing packages in isolated environment:\u001b[0m\n",
      "  - setuptools\n",
      "  - wheel\n",
      "\u001b[1m* Getting build dependencies for sdist...\u001b[0m\n",
      "running egg_info\n",
      "writing my_lib_dsci510.egg-info/PKG-INFO\n",
      "writing dependency_links to my_lib_dsci510.egg-info/dependency_links.txt\n",
      "writing requirements to my_lib_dsci510.egg-info/requires.txt\n",
      "writing top-level names to my_lib_dsci510.egg-info/top_level.txt\n",
      "reading manifest file 'my_lib_dsci510.egg-info/SOURCES.txt'\n",
      "writing manifest file 'my_lib_dsci510.egg-info/SOURCES.txt'\n",
      "\u001b[1m* Building sdist...\u001b[0m\n",
      "running sdist\n",
      "running egg_info\n",
      "writing my_lib_dsci510.egg-info/PKG-INFO\n",
      "writing dependency_links to my_lib_dsci510.egg-info/dependency_links.txt\n",
      "writing requirements to my_lib_dsci510.egg-info/requires.txt\n",
      "writing top-level names to my_lib_dsci510.egg-info/top_level.txt\n",
      "reading manifest file 'my_lib_dsci510.egg-info/SOURCES.txt'\n",
      "writing manifest file 'my_lib_dsci510.egg-info/SOURCES.txt'\n",
      "running check\n",
      "creating my_lib_dsci510-0.1.0\n",
      "creating my_lib_dsci510-0.1.0/my_lib\n",
      "creating my_lib_dsci510-0.1.0/my_lib_dsci510.egg-info\n",
      "copying files to my_lib_dsci510-0.1.0...\n",
      "copying README.md -> my_lib_dsci510-0.1.0\n",
      "copying pyproject.toml -> my_lib_dsci510-0.1.0\n",
      "copying setup.py -> my_lib_dsci510-0.1.0\n",
      "copying my_lib/__init__.py -> my_lib_dsci510-0.1.0/my_lib\n",
      "copying my_lib/attention.py -> my_lib_dsci510-0.1.0/my_lib\n",
      "copying my_lib_dsci510.egg-info/PKG-INFO -> my_lib_dsci510-0.1.0/my_lib_dsci510.egg-info\n",
      "copying my_lib_dsci510.egg-info/SOURCES.txt -> my_lib_dsci510-0.1.0/my_lib_dsci510.egg-info\n",
      "copying my_lib_dsci510.egg-info/dependency_links.txt -> my_lib_dsci510-0.1.0/my_lib_dsci510.egg-info\n",
      "copying my_lib_dsci510.egg-info/requires.txt -> my_lib_dsci510-0.1.0/my_lib_dsci510.egg-info\n",
      "copying my_lib_dsci510.egg-info/top_level.txt -> my_lib_dsci510-0.1.0/my_lib_dsci510.egg-info\n",
      "copying my_lib_dsci510.egg-info/SOURCES.txt -> my_lib_dsci510-0.1.0/my_lib_dsci510.egg-info\n",
      "Writing my_lib_dsci510-0.1.0/setup.cfg\n",
      "Creating tar archive\n",
      "removing 'my_lib_dsci510-0.1.0' (and everything under it)\n",
      "\u001b[1m* Building wheel from sdist\u001b[0m\n",
      "\u001b[1m* Creating isolated environment: venv+pip...\u001b[0m\n",
      "\u001b[1m* Installing packages in isolated environment:\u001b[0m\n",
      "  - setuptools\n",
      "  - wheel\n",
      "\u001b[1m* Getting build dependencies for wheel...\u001b[0m\n",
      "running egg_info\n",
      "writing my_lib_dsci510.egg-info/PKG-INFO\n",
      "writing dependency_links to my_lib_dsci510.egg-info/dependency_links.txt\n",
      "writing requirements to my_lib_dsci510.egg-info/requires.txt\n",
      "writing top-level names to my_lib_dsci510.egg-info/top_level.txt\n",
      "reading manifest file 'my_lib_dsci510.egg-info/SOURCES.txt'\n",
      "writing manifest file 'my_lib_dsci510.egg-info/SOURCES.txt'\n",
      "\u001b[1m* Building wheel...\u001b[0m\n",
      "running bdist_wheel\n",
      "running build\n",
      "running build_py\n",
      "creating build/lib/my_lib\n",
      "copying my_lib/attention.py -> build/lib/my_lib\n",
      "copying my_lib/__init__.py -> build/lib/my_lib\n",
      "installing to build/bdist.linux-x86_64/wheel\n",
      "running install\n",
      "running install_lib\n",
      "creating build/bdist.linux-x86_64/wheel\n",
      "creating build/bdist.linux-x86_64/wheel/my_lib\n",
      "copying build/lib/my_lib/attention.py -> build/bdist.linux-x86_64/wheel/./my_lib\n",
      "copying build/lib/my_lib/__init__.py -> build/bdist.linux-x86_64/wheel/./my_lib\n",
      "running install_egg_info\n",
      "running egg_info\n",
      "writing my_lib_dsci510.egg-info/PKG-INFO\n",
      "writing dependency_links to my_lib_dsci510.egg-info/dependency_links.txt\n",
      "writing requirements to my_lib_dsci510.egg-info/requires.txt\n",
      "writing top-level names to my_lib_dsci510.egg-info/top_level.txt\n",
      "reading manifest file 'my_lib_dsci510.egg-info/SOURCES.txt'\n",
      "writing manifest file 'my_lib_dsci510.egg-info/SOURCES.txt'\n",
      "Copying my_lib_dsci510.egg-info to build/bdist.linux-x86_64/wheel/./my_lib_dsci510-0.1.0-py3.11.egg-info\n",
      "running install_scripts\n",
      "creating build/bdist.linux-x86_64/wheel/my_lib_dsci510-0.1.0.dist-info/WHEEL\n",
      "creating '/mnt/c/Users/ejia/Desktop/course/DSCI_510/lab-15/my_lib/dist/.tmp-1ipi4ar7/my_lib_dsci510-0.1.0-py3-none-any.whl' and adding 'build/bdist.linux-x86_64/wheel' to it\n",
      "adding 'my_lib/__init__.py'\n",
      "adding 'my_lib/attention.py'\n",
      "adding 'my_lib_dsci510-0.1.0.dist-info/METADATA'\n",
      "adding 'my_lib_dsci510-0.1.0.dist-info/WHEEL'\n",
      "adding 'my_lib_dsci510-0.1.0.dist-info/top_level.txt'\n",
      "adding 'my_lib_dsci510-0.1.0.dist-info/RECORD'\n",
      "removing build/bdist.linux-x86_64/wheel\n",
      "\u001b[1m\u001b[92mSuccessfully built \u001b[4mmy_lib_dsci510-0.1.0.tar.gz\u001b[0m\u001b[1m\u001b[92m and \u001b[4mmy_lib_dsci510-0.1.0-py3-none-any.whl\u001b[0m\u001b[1m\u001b[92m\u001b[0m\n"
     ]
    }
   ],
   "source": [
    "!cd my_lib && python -m build"
   ]
  },
  {
   "cell_type": "markdown",
   "metadata": {},
   "source": [
    "This creates a `dist/` folder containing files like:\n",
    "\n",
    "```\n",
    "dist/\n",
    "├── my_lib_dsci510-0.1.0.tar.gz\n",
    "└── my_lib_dsci510-0.1.0-py3-none-any.whl\n",
    "```\n",
    "\n",
    "\n",
    "#### 3. Upload to PyPI\n",
    "Install Twine:"
   ]
  },
  {
   "cell_type": "code",
   "execution_count": 20,
   "metadata": {},
   "outputs": [
    {
     "name": "stdout",
     "output_type": "stream",
     "text": [
      "\u001b[33mDEPRECATION: Loading egg at /home/emily/anaconda3/envs/nerf/lib/python3.11/site-packages/pytorch3d-0.7.7-py3.11-linux-x86_64.egg is deprecated. pip 24.3 will enforce this behaviour change. A possible replacement is to use pip for package installation. Discussion can be found at https://github.com/pypa/pip/issues/12330\u001b[0m\u001b[33m\n",
      "\u001b[0m\u001b[33mDEPRECATION: Loading egg at /home/emily/anaconda3/envs/nerf/lib/python3.11/site-packages/diff_gauss-1.0.10.0-py3.11-linux-x86_64.egg is deprecated. pip 24.3 will enforce this behaviour change. A possible replacement is to use pip for package installation. Discussion can be found at https://github.com/pypa/pip/issues/12330\u001b[0m\u001b[33m\n",
      "\u001b[0mRequirement already satisfied: twine in /home/emily/anaconda3/envs/nerf/lib/python3.11/site-packages (6.1.0)\n",
      "Requirement already satisfied: readme-renderer>=35.0 in /home/emily/anaconda3/envs/nerf/lib/python3.11/site-packages (from twine) (44.0)\n",
      "Requirement already satisfied: requests>=2.20 in /home/emily/anaconda3/envs/nerf/lib/python3.11/site-packages (from twine) (2.32.3)\n",
      "Requirement already satisfied: requests-toolbelt!=0.9.0,>=0.8.0 in /home/emily/anaconda3/envs/nerf/lib/python3.11/site-packages (from twine) (1.0.0)\n",
      "Requirement already satisfied: urllib3>=1.26.0 in /home/emily/anaconda3/envs/nerf/lib/python3.11/site-packages (from twine) (2.2.2)\n",
      "Requirement already satisfied: keyring>=15.1 in /home/emily/anaconda3/envs/nerf/lib/python3.11/site-packages (from twine) (25.6.0)\n",
      "Requirement already satisfied: rfc3986>=1.4.0 in /home/emily/anaconda3/envs/nerf/lib/python3.11/site-packages (from twine) (2.0.0)\n",
      "Requirement already satisfied: rich>=12.0.0 in /home/emily/anaconda3/envs/nerf/lib/python3.11/site-packages (from twine) (13.7.0)\n",
      "Requirement already satisfied: packaging>=24.0 in /home/emily/anaconda3/envs/nerf/lib/python3.11/site-packages (from twine) (24.1)\n",
      "Requirement already satisfied: id in /home/emily/anaconda3/envs/nerf/lib/python3.11/site-packages (from twine) (1.5.0)\n",
      "Requirement already satisfied: SecretStorage>=3.2 in /home/emily/anaconda3/envs/nerf/lib/python3.11/site-packages (from keyring>=15.1->twine) (3.3.3)\n",
      "Requirement already satisfied: jeepney>=0.4.2 in /home/emily/anaconda3/envs/nerf/lib/python3.11/site-packages (from keyring>=15.1->twine) (0.9.0)\n",
      "Requirement already satisfied: importlib_metadata>=4.11.4 in /home/emily/anaconda3/envs/nerf/lib/python3.11/site-packages (from keyring>=15.1->twine) (7.0.1)\n",
      "Requirement already satisfied: jaraco.classes in /home/emily/anaconda3/envs/nerf/lib/python3.11/site-packages (from keyring>=15.1->twine) (3.4.0)\n",
      "Requirement already satisfied: jaraco.functools in /home/emily/anaconda3/envs/nerf/lib/python3.11/site-packages (from keyring>=15.1->twine) (4.1.0)\n",
      "Requirement already satisfied: jaraco.context in /home/emily/anaconda3/envs/nerf/lib/python3.11/site-packages (from keyring>=15.1->twine) (6.0.1)\n",
      "Requirement already satisfied: nh3>=0.2.14 in /home/emily/anaconda3/envs/nerf/lib/python3.11/site-packages (from readme-renderer>=35.0->twine) (0.2.21)\n",
      "Requirement already satisfied: docutils>=0.21.2 in /home/emily/anaconda3/envs/nerf/lib/python3.11/site-packages (from readme-renderer>=35.0->twine) (0.21.2)\n",
      "Requirement already satisfied: Pygments>=2.5.1 in /home/emily/anaconda3/envs/nerf/lib/python3.11/site-packages (from readme-renderer>=35.0->twine) (2.15.1)\n",
      "Requirement already satisfied: charset-normalizer<4,>=2 in /home/emily/anaconda3/envs/nerf/lib/python3.11/site-packages (from requests>=2.20->twine) (3.3.2)\n",
      "Requirement already satisfied: idna<4,>=2.5 in /home/emily/anaconda3/envs/nerf/lib/python3.11/site-packages (from requests>=2.20->twine) (3.7)\n",
      "Requirement already satisfied: certifi>=2017.4.17 in /home/emily/anaconda3/envs/nerf/lib/python3.11/site-packages (from requests>=2.20->twine) (2024.8.30)\n",
      "Requirement already satisfied: markdown-it-py>=2.2.0 in /home/emily/anaconda3/envs/nerf/lib/python3.11/site-packages (from rich>=12.0.0->twine) (3.0.0)\n",
      "Requirement already satisfied: zipp>=0.5 in /home/emily/anaconda3/envs/nerf/lib/python3.11/site-packages (from importlib_metadata>=4.11.4->keyring>=15.1->twine) (3.17.0)\n",
      "Requirement already satisfied: mdurl~=0.1 in /home/emily/anaconda3/envs/nerf/lib/python3.11/site-packages (from markdown-it-py>=2.2.0->rich>=12.0.0->twine) (0.1.2)\n",
      "Requirement already satisfied: cryptography>=2.0 in /home/emily/anaconda3/envs/nerf/lib/python3.11/site-packages (from SecretStorage>=3.2->keyring>=15.1->twine) (44.0.2)\n",
      "Requirement already satisfied: more-itertools in /home/emily/anaconda3/envs/nerf/lib/python3.11/site-packages (from jaraco.classes->keyring>=15.1->twine) (10.7.0)\n",
      "Requirement already satisfied: backports.tarfile in /home/emily/anaconda3/envs/nerf/lib/python3.11/site-packages (from jaraco.context->keyring>=15.1->twine) (1.2.0)\n",
      "Requirement already satisfied: cffi>=1.12 in /home/emily/anaconda3/envs/nerf/lib/python3.11/site-packages (from cryptography>=2.0->SecretStorage>=3.2->keyring>=15.1->twine) (1.16.0)\n",
      "Requirement already satisfied: pycparser in /home/emily/anaconda3/envs/nerf/lib/python3.11/site-packages (from cffi>=1.12->cryptography>=2.0->SecretStorage>=3.2->keyring>=15.1->twine) (2.21)\n"
     ]
    }
   ],
   "source": [
    "!pip install twine"
   ]
  },
  {
   "cell_type": "markdown",
   "metadata": {},
   "source": [
    "Then upload your package(You will be prompted to enter your [PyPI username and password](https://pypi.org/account/register/).):\n",
    "```bash\n",
    "twine upload my_lib/dist/*\n",
    "```"
   ]
  },
  {
   "cell_type": "markdown",
   "metadata": {},
   "source": [
    "#### Now everyone can install the library!\n",
    "Once uploaded, anyone can install your package using:\n",
    "\n",
    "```bash\n",
    "pip install my_lib_dsci510\n",
    "```"
   ]
  }
 ],
 "metadata": {
  "kernelspec": {
   "display_name": "nerf",
   "language": "python",
   "name": "python3"
  },
  "language_info": {
   "codemirror_mode": {
    "name": "ipython",
    "version": 3
   },
   "file_extension": ".py",
   "mimetype": "text/x-python",
   "name": "python",
   "nbconvert_exporter": "python",
   "pygments_lexer": "ipython3",
   "version": "3.11.0"
  }
 },
 "nbformat": 4,
 "nbformat_minor": 2
}
