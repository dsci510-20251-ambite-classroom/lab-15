{
 "cells": [
  {
   "cell_type": "markdown",
   "metadata": {},
   "source": [
    "# Lab 15 Example\n",
    "In this lab we will cover two advanced topics in Python. The first topic is about **Concurrency and Parallelism**. And the second is about **Packaging and Distribution**."
   ]
  },
  {
   "cell_type": "markdown",
   "metadata": {},
   "source": [
    "## Concurrency and Parallelism\n",
    "In Python, **concurrency and parallelism** deal with executing multiple tasks simultaneously to improve performance, responsiveness, or throughput. While the terms are often used interchangeably, they refer to different concepts:\n",
    "\n",
    "* **Concurrency** is about dealing with many tasks at once—managing multiple operations in overlapping time frames (e.g., using threads or asynchronous I/O).\n",
    "* **Parallelism** is about doing many tasks at the same time—actually running code simultaneously, typically on multiple CPU cores (e.g., using the `multiprocessing` module).\n",
    "\n",
    "Python’s Global Interpreter Lock (GIL) imposes limitations on true parallelism in multi-threaded code, but tools like **`asyncio`**, **`threading`**, and **`multiprocessing`** offer different models for achieving concurrency and parallelism. Understanding when and how to use each is critical for building high-performance applications, especially in web servers, data pipelines, or scientific computing.\n"
   ]
  },
  {
   "cell_type": "markdown",
   "metadata": {},
   "source": [
    "## Packaging and Distribution\n",
    "**Packaging and distribution** in Python involves organizing your code into reusable components and sharing them with others, whether internally or via the Python Package Index (**PyPI**). A well-packaged Python project follows standardized structures (e.g., with `setup.py`, `pyproject.toml`) and includes metadata, dependencies, and optional build tools.\n",
    "\n",
    "With tools like **`setuptools`**, **`poetry`**, and **`flit`**, developers can streamline project setup, dependency management, and publishing. Mastering packaging ensures your code can be easily installed, versioned, tested, and integrated with CI/CD pipelines or other projects.\n",
    "\n",
    "Proper packaging also lays the foundation for advanced topics like plugin systems, modular architecture, and binary distribution using tools like **PyInstaller**."
   ]
  }
 ],
 "metadata": {
  "language_info": {
   "name": "python"
  }
 },
 "nbformat": 4,
 "nbformat_minor": 2
}
